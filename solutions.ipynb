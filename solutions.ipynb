{
 "cells": [
  {
   "cell_type": "code",
   "execution_count": 13,
   "metadata": {},
   "outputs": [
    {
     "data": {
      "text/plain": [
       "100.0"
      ]
     },
     "execution_count": 13,
     "metadata": {},
     "output_type": "execute_result"
    }
   ],
   "source": [
    "# Exercise 1.1.\n",
    "\n",
    "def to_celsius(fahr):\n",
    "    \"\"\"\n",
    "    Convert a given temperature from Fahrenheit to Celsius.\n",
    "    \n",
    "    :param fahr: int or float of temperature in degree Fahrenheit\n",
    "    :return: int or float of temperature in degree Celsius\n",
    "    \"\"\"\n",
    "    return (5/9) * (fahr-32)\n",
    "\n",
    "to_celsius(212)"
   ]
  },
  {
   "cell_type": "code",
   "execution_count": 16,
   "metadata": {},
   "outputs": [
    {
     "data": {
      "text/plain": [
       "'The second number is bigger.'"
      ]
     },
     "execution_count": 16,
     "metadata": {},
     "output_type": "execute_result"
    }
   ],
   "source": [
    "# Exercise 1.2.\n",
    "\n",
    "def compare(x,y):\n",
    "    \"\"\"\n",
    "    Compare the size of two given numbers.\n",
    "    \n",
    "    :param x: first number (int or float)\n",
    "    :param y: second number (int or float)\n",
    "    :return: string describing the relationship between two numbers\n",
    "    \"\"\"\n",
    "    if x==y:\n",
    "        return \"The numbers are equal.\"\n",
    "    elif x>y:\n",
    "        return \"The first number is bigger.\"\n",
    "    else:\n",
    "        return \"The second number is bigger.\"\n",
    "\n",
    "compare(1, 3)"
   ]
  },
  {
   "cell_type": "code",
   "execution_count": 19,
   "metadata": {},
   "outputs": [
    {
     "data": {
      "text/plain": [
       "True"
      ]
     },
     "execution_count": 19,
     "metadata": {},
     "output_type": "execute_result"
    }
   ],
   "source": [
    "# Exercise 1.3.\n",
    "\n",
    "def divisible(x,y):\n",
    "    \"\"\"\n",
    "    Check if the second number is divisible by the first number.\n",
    "    \n",
    "    :param x: first number (int or float)\n",
    "    :param y: second number (int or float)\n",
    "    :return: boolean describing the divisibility between the numbers\n",
    "    \"\"\"\n",
    "    if y%x == 0:\n",
    "        return True\n",
    "    else:\n",
    "        return False\n",
    "\n",
    "divisible(4, 12)"
   ]
  },
  {
   "cell_type": "code",
   "execution_count": null,
   "metadata": {},
   "outputs": [],
   "source": [
    "# Exercise 1.4.\n",
    "\n",
    "def numlist_size(l):\n",
    "    \"\"\"\n",
    "    Print the size of each number in a given\n",
    "    \n",
    "    :param l: list of numbers (int or float)\n",
    "    :return: strings describing the size for each number in order\n",
    "    \"\"\"\n",
    "    for i in l:\n",
    "        if \n",
    "\n",
    "numlist_size([-5,5,15,25])"
   ]
  },
  {
   "cell_type": "code",
   "execution_count": null,
   "metadata": {},
   "outputs": [],
   "source": [
    "# Exercise 1.5.\n",
    "\n",
    "def solve2(a,b,c):\n",
    "    \"\"\"\n",
    "    Find the real roots of the quadratic equation ax^2 + bx + c.\n",
    "    \n",
    "    :param a: leading coefficient (int or float)\n",
    "    :param b: middle coefficient (int or float)\n",
    "    :param c: constant coefficient (int or float)\n",
    "    :return: list of the real roots of the quadratic equation\n",
    "    \"\"\"\n",
    "    \n",
    "    # import math package to use math.sqrt() function\n",
    "    # the number of real roots can be described by the discriminant"
   ]
  },
  {
   "cell_type": "code",
   "execution_count": null,
   "metadata": {},
   "outputs": [],
   "source": [
    "# Exercise 2.1.\n",
    "\n",
    "def cube_min_1(l):\n",
    "    \"\"\"\n",
    "    Cube and subtract each number in a given list by one (without list comprehension).\n",
    "    \n",
    "    :param l: list of numbers (int or float)\n",
    "    :return: list of the newly cubed minus one numbers\n",
    "    \"\"\"\n",
    "    \n",
    "    # the append() method can be used to create a new list\n",
    "\n",
    "\n",
    "def cube_min_1_comp(l):\n",
    "    \"\"\"\n",
    "    Cube and subtract each number in a given list by one (with list comprehension).\n",
    "    \n",
    "    :param l: list of numbers (int or float)\n",
    "    :return: list of the newly one less than a cubed numbers\n",
    "    \"\"\"\n",
    "    \n",
    "    # the for loop can be used inside a list to generate the elements"
   ]
  },
  {
   "cell_type": "code",
   "execution_count": null,
   "metadata": {},
   "outputs": [],
   "source": [
    "# Exercise 2.2.\n",
    "\n",
    "def squares(m,n):\n",
    "    \"\"\"\n",
    "    Square the numbers between a given interval (without list comprehension).\n",
    "    \n",
    "    :param m: first number in the interval (preferably int)\n",
    "    :param n: last number in the interval (preferably int)\n",
    "    :return: list of the newly squared numbers\n",
    "    \"\"\"\n",
    "    \n",
    "    # the range() function can be used to iterate through desired intervals\n",
    "    # the similar idea can be applied as the previous, otherwise\n",
    "\n",
    "\n",
    "def squares_comp(m,n):\n",
    "    \"\"\"\n",
    "    Square the numbers between a given interval (with list comprehension).\n",
    "    \n",
    "    :param m: first number in the interval (preferably int)\n",
    "    :param n: last number in the interval (preferably int)\n",
    "    :return: list of the newly squared numbers\n",
    "    \"\"\"\n",
    "    \n",
    "    # the similar idea can be applied as the previous"
   ]
  },
  {
   "cell_type": "code",
   "execution_count": null,
   "metadata": {},
   "outputs": [],
   "source": [
    "# Exercise 2.3.\n",
    "\n",
    "def powers(m,n,k):\n",
    "    \"\"\"\n",
    "    Square the numbers between a given interval (with list comprehension).\n",
    "    \n",
    "    :param m: first number in the interval (preferably int)\n",
    "    :param n: last number in the interval (preferably int)\n",
    "    :return: list of the newly squared numbers\n",
    "    \"\"\"\n",
    "    \n",
    "    # the similar idea can be applied as the previous\n",
    "    \n",
    "\n",
    "def powers_comp(m,n,k):\n",
    "    \"\"\"\n",
    "    Square the numbers between a given interval (with list comprehension).\n",
    "    \n",
    "    :param m: first number in the interval (preferably int)\n",
    "    :param n: last number in the interval (preferably int)\n",
    "    :return: list of the newly squared numbers\n",
    "    \"\"\"\n",
    "    \n",
    "    # the similar idea can be applied as the previous"
   ]
  },
  {
   "cell_type": "code",
   "execution_count": 1,
   "metadata": {},
   "outputs": [
    {
     "name": "stdout",
     "output_type": "stream",
     "text": [
      "[1, 16, 81, 256, 625]\n",
      "[1, 16, 81, 256, 625]\n"
     ]
    }
   ],
   "source": [
    "# Exercise 2.3.\n",
    "\n",
    "\n",
    "def powers(m,n,k):\n",
    "    \"\"\"\n",
    "    Square the numbers between a given interval (with list comprehension).\n",
    "    \n",
    "    :param m: first number in the interval (preferably int)\n",
    "    :param n: last number in the interval (preferably int)\n",
    "    :return: list of the newly squared numbers\n",
    "    \"\"\"\n",
    "    l = []\n",
    "    for i in range(m,n+1):\n",
    "        l.append(i**k)\n",
    "    return l\n",
    "\n",
    "\n",
    "def powers_comp(m,n,k):\n",
    "    \"\"\"\n",
    "    Square the numbers between a given interval (with list comprehension).\n",
    "    \n",
    "    :param m: first number in the interval (preferably int)\n",
    "    :param n: last number in the interval (preferably int)\n",
    "    :return: list of the newly squared numbers\n",
    "    \"\"\"\n",
    "    return [i**k for i in range(m,n+1)]\n",
    "\n",
    "\n",
    "print(powers(1,5,4))\n",
    "print(powers_comp(1,5,4))"
   ]
  },
  {
   "cell_type": "code",
   "execution_count": 2,
   "metadata": {},
   "outputs": [
    {
     "name": "stdout",
     "output_type": "stream",
     "text": [
      "2\n",
      "None\n"
     ]
    }
   ],
   "source": [
    "# Exercise 2.4.\n",
    "\n",
    "def index_of(x, l):\n",
    "    for i in range(len(l)):\n",
    "        if l[i] == x:\n",
    "            return i\n",
    "\n",
    "\n",
    "print(index_of(3,[4,1,3,2,3]))\n",
    "print(index_of(0,[4,1,3,2,3]))"
   ]
  },
  {
   "cell_type": "code",
   "execution_count": 3,
   "metadata": {},
   "outputs": [
    {
     "name": "stdout",
     "output_type": "stream",
     "text": [
      "[2, 4]\n",
      "[]\n"
     ]
    }
   ],
   "source": [
    "# Exercise 2.5.\n",
    "\n",
    "def indices_of(x, l):\n",
    "    indices = []\n",
    "    for i in range(len(l)):\n",
    "        if l[i] == x:\n",
    "            indices.append(i)\n",
    "    return indices\n",
    "\n",
    "\n",
    "print(indices_of(3,[4,1,3,2,3]))\n",
    "print(indices_of(0,[4,1,3,2,3]))"
   ]
  },
  {
   "cell_type": "code",
   "execution_count": 4,
   "metadata": {},
   "outputs": [
    {
     "data": {
      "text/plain": [
       "[1, 'a', 3, 4, 'a']"
      ]
     },
     "execution_count": 4,
     "metadata": {},
     "output_type": "execute_result"
    }
   ],
   "source": [
    "# Exercise 2.6.\n",
    "\n",
    "def substitute(l, x, y):\n",
    "    new_l = []\n",
    "    for i in l:\n",
    "        if i == x:\n",
    "            new_l.append(y)\n",
    "        else:\n",
    "            new_l.append(i)\n",
    "    return new_l\n",
    "\n",
    "\n",
    "substitute([1,2,3,4,2],2,'a')"
   ]
  },
  {
   "cell_type": "code",
   "execution_count": 5,
   "metadata": {},
   "outputs": [
    {
     "data": {
      "text/plain": [
       "[1, 'a', 3, 4, 'a']"
      ]
     },
     "execution_count": 5,
     "metadata": {},
     "output_type": "execute_result"
    }
   ],
   "source": [
    "# Exercise 2.7.\n",
    "\n",
    "def substitute_upd(l, x, y):\n",
    "    for i in range(len(l)):\n",
    "        if l[i] == x:\n",
    "            l[i] = y\n",
    "\n",
    "\n",
    "mylist = [1,2,3,4,2]\n",
    "substitute_upd(mylist,2,'a')\n",
    "mylist"
   ]
  },
  {
   "cell_type": "code",
   "execution_count": 6,
   "metadata": {},
   "outputs": [
    {
     "data": {
      "text/plain": [
       "[35, 42, 49]"
      ]
     },
     "execution_count": 6,
     "metadata": {},
     "output_type": "execute_result"
    }
   ],
   "source": [
    "# Exercise 2.8.\n",
    "\n",
    "def divisibles_by(l,n):\n",
    "    return [i for i in l if i%n == 0]\n",
    "    \n",
    "\n",
    "divisibles_by(list(range(30,50)),7)"
   ]
  },
  {
   "cell_type": "code",
   "execution_count": 7,
   "metadata": {},
   "outputs": [
    {
     "data": {
      "text/plain": [
       "[1, 2, 4, 7, 14]"
      ]
     },
     "execution_count": 7,
     "metadata": {},
     "output_type": "execute_result"
    }
   ],
   "source": [
    "# Exercise 2.9.\n",
    "\n",
    "def divisors(n):\n",
    "    return [i for i in range(1,n) if n%i == 0]\n",
    "\n",
    "\n",
    "divisors(28)"
   ]
  },
  {
   "cell_type": "code",
   "execution_count": 8,
   "metadata": {},
   "outputs": [
    {
     "data": {
      "text/plain": [
       "[(6, 12), (17, 18), (28, 56), (39, 56), (50, 93)]"
      ]
     },
     "execution_count": 8,
     "metadata": {},
     "output_type": "execute_result"
    }
   ],
   "source": [
    "# Exercise 2.10.\n",
    "\n",
    "def sigma(n):\n",
    "    return sum(divisors(n)) + n     # use previously defined function\n",
    "\n",
    "\n",
    "[(n,sigma(n)) for n in range(6,60,11)]"
   ]
  },
  {
   "cell_type": "code",
   "execution_count": 9,
   "metadata": {},
   "outputs": [
    {
     "data": {
      "text/plain": [
       "[6, 28, 496, 8128]"
      ]
     },
     "execution_count": 9,
     "metadata": {},
     "output_type": "execute_result"
    }
   ],
   "source": [
    "# Exercise 2.11.\n",
    "\n",
    "def is_perfect(n):\n",
    "    if sum(divisors(n)) == n:\n",
    "        return True\n",
    "    else:\n",
    "        return False\n",
    "\n",
    "\n",
    "[i for i in range(1,10000) if is_perfect(i)]"
   ]
  },
  {
   "cell_type": "code",
   "execution_count": 10,
   "metadata": {},
   "outputs": [
    {
     "name": "stdout",
     "output_type": "stream",
     "text": [
      "30 -> [1, 2, 3, 5, 6, 10, 15]\n",
      "31 -> [1]\n",
      "32 -> [1, 2, 4, 8, 16]\n",
      "33 -> [1, 3, 11]\n",
      "34 -> [1, 2, 17]\n",
      "35 -> [1, 5, 7]\n"
     ]
    }
   ],
   "source": [
    "# Exercise 2.12.\n",
    "\n",
    "def divisors_ival(n,m):\n",
    "    for i in range(n, m+1):\n",
    "        print(f\"{i} -> {divisors(i)}\")\n",
    "\n",
    "\n",
    "divisors_ival(30,35)"
   ]
  },
  {
   "cell_type": "code",
   "execution_count": null,
   "metadata": {},
   "outputs": [],
   "source": []
  }
 ],
 "metadata": {
  "kernelspec": {
   "display_name": "Python 3",
   "language": "python",
   "name": "python3"
  },
  "language_info": {
   "codemirror_mode": {
    "name": "ipython",
    "version": 3
   },
   "file_extension": ".py",
   "mimetype": "text/x-python",
   "name": "python",
   "nbconvert_exporter": "python",
   "pygments_lexer": "ipython3",
   "version": "3.6.9"
  }
 },
 "nbformat": 4,
 "nbformat_minor": 4
}
